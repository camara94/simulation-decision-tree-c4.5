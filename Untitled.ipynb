{
 "cells": [
  {
   "cell_type": "markdown",
   "metadata": {},
   "source": [
    "# Construire un arbre de décision à partir d’unensemble d’apprentissage."
   ]
  },
  {
   "cell_type": "markdown",
   "metadata": {},
   "source": [
    "## Mesure de l’information\n",
    "* Si on a n classes (C1, C2,.., Cn) de probabilités respectives p1, p2,.., pn, la quantité d’information relative à la connaissance de<br> **l’entropie d’information:** <br> <big>I = $\\sum_{i=1}^{n} -p_i$ $\\log_{2} p_i$</big>\n",
    "* I = 0 quand appartient à i/ pi = 1 (une seule classe).\n",
    "* I est maximale quand appartient à i/ pi = 1/n (classes équiprobables).\n"
   ]
  },
  {
   "cell_type": "code",
   "execution_count": 15,
   "metadata": {},
   "outputs": [],
   "source": [
    "import pandas as pd\n",
    "import numpy as np\n",
    "import matplotlib.pyplot as plt\n",
    "from math import log2"
   ]
  },
  {
   "cell_type": "code",
   "execution_count": 16,
   "metadata": {},
   "outputs": [],
   "source": [
    "df = pd.read_excel('predictiondecredit.xlsx')"
   ]
  },
  {
   "cell_type": "code",
   "execution_count": 17,
   "metadata": {},
   "outputs": [
    {
     "data": {
      "text/html": [
       "<div>\n",
       "<style scoped>\n",
       "    .dataframe tbody tr th:only-of-type {\n",
       "        vertical-align: middle;\n",
       "    }\n",
       "\n",
       "    .dataframe tbody tr th {\n",
       "        vertical-align: top;\n",
       "    }\n",
       "\n",
       "    .dataframe thead th {\n",
       "        text-align: right;\n",
       "    }\n",
       "</style>\n",
       "<table border=\"1\" class=\"dataframe\">\n",
       "  <thead>\n",
       "    <tr style=\"text-align: right;\">\n",
       "      <th></th>\n",
       "      <th>Revenu</th>\n",
       "      <th>Propriete</th>\n",
       "      <th>Credit non remboursé</th>\n",
       "      <th>Classe</th>\n",
       "    </tr>\n",
       "  </thead>\n",
       "  <tbody>\n",
       "    <tr>\n",
       "      <th>0</th>\n",
       "      <td>Elevé</td>\n",
       "      <td>Supérieur</td>\n",
       "      <td>Non</td>\n",
       "      <td>C1</td>\n",
       "    </tr>\n",
       "    <tr>\n",
       "      <th>1</th>\n",
       "      <td>Elevé</td>\n",
       "      <td>Supérieur</td>\n",
       "      <td>Oui</td>\n",
       "      <td>C2</td>\n",
       "    </tr>\n",
       "    <tr>\n",
       "      <th>2</th>\n",
       "      <td>Elevé</td>\n",
       "      <td>Supérieur</td>\n",
       "      <td>Non</td>\n",
       "      <td>C1</td>\n",
       "    </tr>\n",
       "    <tr>\n",
       "      <th>3</th>\n",
       "      <td>Elevé</td>\n",
       "      <td>Inférieur</td>\n",
       "      <td>Oui</td>\n",
       "      <td>C2</td>\n",
       "    </tr>\n",
       "    <tr>\n",
       "      <th>4</th>\n",
       "      <td>Moyen</td>\n",
       "      <td>Supérieur</td>\n",
       "      <td>Non</td>\n",
       "      <td>C1</td>\n",
       "    </tr>\n",
       "    <tr>\n",
       "      <th>5</th>\n",
       "      <td>Moyen</td>\n",
       "      <td>Supérieur</td>\n",
       "      <td>Oui</td>\n",
       "      <td>C2</td>\n",
       "    </tr>\n",
       "    <tr>\n",
       "      <th>6</th>\n",
       "      <td>Moyen</td>\n",
       "      <td>Inférieur</td>\n",
       "      <td>Non</td>\n",
       "      <td>C2</td>\n",
       "    </tr>\n",
       "    <tr>\n",
       "      <th>7</th>\n",
       "      <td>Moyen</td>\n",
       "      <td>Inférieur</td>\n",
       "      <td>Oui</td>\n",
       "      <td>C2</td>\n",
       "    </tr>\n",
       "    <tr>\n",
       "      <th>8</th>\n",
       "      <td>Faible</td>\n",
       "      <td>Inférieur</td>\n",
       "      <td>Non</td>\n",
       "      <td>C3</td>\n",
       "    </tr>\n",
       "    <tr>\n",
       "      <th>9</th>\n",
       "      <td>Faible</td>\n",
       "      <td>Inférieur</td>\n",
       "      <td>Oui</td>\n",
       "      <td>C3</td>\n",
       "    </tr>\n",
       "  </tbody>\n",
       "</table>\n",
       "</div>"
      ],
      "text/plain": [
       "   Revenu  Propriete Credit non remboursé Classe\n",
       "0   Elevé  Supérieur                  Non     C1\n",
       "1   Elevé  Supérieur                  Oui     C2\n",
       "2   Elevé  Supérieur                  Non     C1\n",
       "3   Elevé  Inférieur                  Oui     C2\n",
       "4   Moyen  Supérieur                  Non     C1\n",
       "5   Moyen  Supérieur                  Oui     C2\n",
       "6   Moyen  Inférieur                  Non     C2\n",
       "7   Moyen  Inférieur                  Oui     C2\n",
       "8  Faible  Inférieur                  Non     C3\n",
       "9  Faible  Inférieur                  Oui     C3"
      ]
     },
     "execution_count": 17,
     "metadata": {},
     "output_type": "execute_result"
    }
   ],
   "source": [
    "df"
   ]
  },
  {
   "cell_type": "markdown",
   "metadata": {},
   "source": [
    "![première image](1.png)"
   ]
  },
  {
   "cell_type": "code",
   "execution_count": 28,
   "metadata": {},
   "outputs": [],
   "source": [
    "def infoT(data, classe='Classe'):\n",
    "    T = list(df[classe].value_counts())\n",
    "    resultat = 0\n",
    "    for i in T:\n",
    "        resultat += (i/len(df)) * log2((i/len(df)))\n",
    "    resultat *=(-1)\n",
    "    resultat = '{:2.3f}'.format(resultat)\n",
    "    return np.float64(resultat)"
   ]
  },
  {
   "cell_type": "code",
   "execution_count": 29,
   "metadata": {},
   "outputs": [
    {
     "data": {
      "text/plain": [
       "1.485"
      ]
     },
     "execution_count": 29,
     "metadata": {},
     "output_type": "execute_result"
    }
   ],
   "source": [
    "infoT(df)"
   ]
  },
  {
   "cell_type": "code",
   "execution_count": 33,
   "metadata": {},
   "outputs": [],
   "source": [
    "at = df[\"Revenu\"].value_counts()"
   ]
  },
  {
   "cell_type": "code",
   "execution_count": 40,
   "metadata": {},
   "outputs": [
    {
     "data": {
      "text/plain": [
       "Index(['Moyen', 'Elevé', 'Faible'], dtype='object')"
      ]
     },
     "execution_count": 40,
     "metadata": {},
     "output_type": "execute_result"
    }
   ],
   "source": [
    "at.index"
   ]
  },
  {
   "cell_type": "code",
   "execution_count": null,
   "metadata": {},
   "outputs": [],
   "source": []
  }
 ],
 "metadata": {
  "kernelspec": {
   "display_name": "Python 3",
   "language": "python",
   "name": "python3"
  },
  "language_info": {
   "codemirror_mode": {
    "name": "ipython",
    "version": 3
   },
   "file_extension": ".py",
   "mimetype": "text/x-python",
   "name": "python",
   "nbconvert_exporter": "python",
   "pygments_lexer": "ipython3",
   "version": "3.8.5"
  }
 },
 "nbformat": 4,
 "nbformat_minor": 4
}
